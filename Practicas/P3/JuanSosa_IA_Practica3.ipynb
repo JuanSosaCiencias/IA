{
  "nbformat": 4,
  "nbformat_minor": 0,
  "metadata": {
    "colab": {
      "provenance": [],
      "collapsed_sections": [
        "Xd7oDRTkhnN2"
      ]
    },
    "kernelspec": {
      "name": "python3",
      "display_name": "Python 3"
    },
    "language_info": {
      "name": "python"
    }
  },
  "cells": [
    {
      "cell_type": "markdown",
      "source": [
        "# IA Practica 3: Introducción a PyTorch\n",
        "## Hecho por: Juan Mario Sosa Romo 320051926\n",
        "### v0.1 23/03/25"
      ],
      "metadata": {
        "id": "55oVt5w4f1qT"
      }
    },
    {
      "cell_type": "markdown",
      "source": [
        "### Imports y planteamiento del automata\n"
      ],
      "metadata": {
        "id": "Xd7oDRTkhnN2"
      }
    },
    {
      "cell_type": "code",
      "execution_count": null,
      "metadata": {
        "collapsed": true,
        "id": "9PjlzM7UfwkO"
      },
      "outputs": [],
      "source": [
        "import torch\n",
        "import torch.nn as nn\n",
        "import torch.optim as optim"
      ]
    },
    {
      "cell_type": "code",
      "source": [
        "# Entrada: [estado_bit1, estado_bit2, entrada]\n",
        "X = torch.tensor([\n",
        "    [0, 0, 0],  # Estado 00, entrada 0 -> salida [0,1]\n",
        "    [0, 0, 1],  # Estado 00, entrada 1 -> salida [0,0]\n",
        "    [0, 1, 0],  # Estado 01, entrada 0 -> salida [1,0]\n",
        "    [0, 1, 1],  # Estado 01, entrada 1 -> salida [0,0]\n",
        "    [1, 0, 0],  # Estado 10, entrada 0 -> salida [1,1]\n",
        "    [1, 0, 1],  # Estado 10, entrada 1 -> salida [1,0]\n",
        "    [1, 1, 0],  # Estado 11, entrada 0 -> salida [0,0]\n",
        "    [1, 1, 1]   # Estado 11, entrada 1 -> salida [1,0]\n",
        "], dtype=torch.float32)\n",
        "\n",
        "# Salida\n",
        "Y = torch.tensor([\n",
        "    [0, 1],\n",
        "    [0, 0],\n",
        "    [1, 0],\n",
        "    [0, 0],\n",
        "    [1, 1],\n",
        "    [1, 0],\n",
        "    [0, 0],\n",
        "    [1, 0]\n",
        "], dtype=torch.float32)"
      ],
      "metadata": {
        "collapsed": true,
        "id": "YP29gHiGgplp"
      },
      "execution_count": null,
      "outputs": []
    },
    {
      "cell_type": "markdown",
      "source": [
        "### Creando el modelo"
      ],
      "metadata": {
        "id": "SnP43dgPiCY0"
      }
    },
    {
      "cell_type": "code",
      "source": [
        "class SimpleNet(nn.Module):\n",
        "    def __init__(self):\n",
        "        super(SimpleNet, self).__init__()\n",
        "        # Transforma 3 entradas a 2 salidas\n",
        "        self.fc = nn.Linear(3, 2)\n",
        "        # Función sigmoide para la activación\n",
        "        self.sigmoid = nn.Sigmoid()\n",
        "\n",
        "    def forward(self, x):\n",
        "        x = self.fc(x)\n",
        "        x = self.sigmoid(x)\n",
        "        return x"
      ],
      "metadata": {
        "id": "I1RkmbAIh9bd"
      },
      "execution_count": null,
      "outputs": []
    },
    {
      "cell_type": "code",
      "source": [
        "# Función de pérdida: Binary Cross Entropy (BCE)\n",
        "criterion = nn.BCELoss()\n",
        "\n",
        "# Optimizador: Stochastic Gradient Descent (SGD)\n",
        "learning_rate = 0.1\n",
        "model = SimpleNet()\n",
        "optimizer = optim.SGD(model.parameters(), lr=learning_rate)\n",
        "\n",
        "# Best : .05 con .2812 con 10000000 epochs (1 hora xd)\n",
        "# Best : 1.5 con .2812 cualquier cosa encima tambien lleva a esto"
      ],
      "metadata": {
        "id": "FrztWCvGiveZ"
      },
      "execution_count": null,
      "outputs": []
    },
    {
      "cell_type": "code",
      "source": [
        "# Número de épocas de entr enamiento\n",
        "num_epochs = 1000000\n",
        "\n",
        "for epoch in range(num_epochs):\n",
        "    # Forward propagation\n",
        "    outputs = model(X)\n",
        "\n",
        "    # Calcular la discrepancia\n",
        "    loss = criterion(outputs, Y)\n",
        "\n",
        "    # Backward propagation\n",
        "    optimizer.zero_grad()  # Limpia los gradientes del optimizador\n",
        "    loss.backward()        # Calcula los gradientes (backpropagation)\n",
        "    optimizer.step()       # Actualiza los pesos usando el optimizador\n",
        "\n",
        "    # Imprimir la pérdida cada 100 épocas para ver la evolución\n",
        "    if (epoch+1) % 100000 == 0:\n",
        "        print(f'Epoch [{epoch+1}/{num_epochs}], Loss: {loss.item():.4f}')\n"
      ],
      "metadata": {
        "colab": {
          "base_uri": "https://localhost:8080/"
        },
        "collapsed": true,
        "id": "A6KbUIOWjjSu",
        "outputId": "924336f2-5f82-4cde-d309-0fdf80312d66"
      },
      "execution_count": null,
      "outputs": [
        {
          "output_type": "stream",
          "name": "stdout",
          "text": [
            "Epoch [100000/1000000], Loss: 0.2821\n",
            "Epoch [200000/1000000], Loss: 0.2816\n",
            "Epoch [300000/1000000], Loss: 0.2815\n",
            "Epoch [400000/1000000], Loss: 0.2814\n",
            "Epoch [500000/1000000], Loss: 0.2813\n",
            "Epoch [600000/1000000], Loss: 0.2813\n",
            "Epoch [700000/1000000], Loss: 0.2813\n",
            "Epoch [800000/1000000], Loss: 0.2813\n",
            "Epoch [900000/1000000], Loss: 0.2813\n",
            "Epoch [1000000/1000000], Loss: 0.2813\n"
          ]
        }
      ]
    },
    {
      "cell_type": "markdown",
      "source": [
        "### Evaluacion del modelo"
      ],
      "metadata": {
        "id": "BcIw5DrJqIwm"
      }
    },
    {
      "cell_type": "code",
      "source": [
        "# Evaluar el modelo con los mismos datos de entrenamiento\n",
        "with torch.no_grad():  # No necesitamos calcular gradientes en esta fase\n",
        "    predictions = model(X)\n",
        "    print(\"Predicciones:\")\n",
        "    print(predictions)\n"
      ],
      "metadata": {
        "colab": {
          "base_uri": "https://localhost:8080/"
        },
        "id": "Luiambt5lId2",
        "outputId": "509cf7bf-9f97-4828-f0e2-5965021574a1"
      },
      "execution_count": null,
      "outputs": [
        {
          "output_type": "stream",
          "name": "stdout",
          "text": [
            "Predicciones:\n",
            "tensor([[2.5001e-01, 9.9954e-01],\n",
            "        [2.5001e-01, 1.5159e-04],\n",
            "        [2.5001e-01, 1.5159e-04],\n",
            "        [2.5000e-01, 1.0689e-11],\n",
            "        [7.5000e-01, 9.9963e-01],\n",
            "        [7.5000e-01, 1.8831e-04],\n",
            "        [7.5000e-01, 1.8831e-04],\n",
            "        [7.4999e-01, 1.3279e-11]])\n"
          ]
        }
      ]
    },
    {
      "cell_type": "markdown",
      "source": [
        "#### Aca hago una vista mas bonita para ver diferencia entre bits (esperados vs reales)"
      ],
      "metadata": {
        "id": "614hzrXtqK2a"
      }
    },
    {
      "cell_type": "code",
      "source": [
        "pred_labels = (predictions >= 0.5).float()\n",
        "\n",
        "correct_count = 0\n",
        "total_bits = 0\n",
        "\n",
        "print(\"Comparación de cada bit (verde = correcto, rojo = incorrecto):\\n\")\n",
        "\n",
        "for i in range(pred_labels.shape[0]):\n",
        "    row_str = \"\"\n",
        "    for j in range(pred_labels.shape[1]):\n",
        "        total_bits += 1\n",
        "        pred_bit = int(pred_labels[i][j].item())\n",
        "        true_bit = int(Y[i][j].item())\n",
        "        if pred_bit == true_bit:\n",
        "            row_str += f\"\\033[92m{pred_bit}\\033[0m \"  # Verde\n",
        "            correct_count += 1\n",
        "        else:\n",
        "            row_str += f\"\\033[91m{pred_bit}\\033[0m \"  # Rojo\n",
        "    print(row_str)\n",
        "\n",
        "# Contadores finales\n",
        "incorrect_count = total_bits - correct_count\n",
        "print(\"\\nContadores:\")\n",
        "print(f\"Bits correctos: {correct_count} de {total_bits}\")\n",
        "print(f\"Bits incorrectos: {incorrect_count} de {total_bits}\")\n"
      ],
      "metadata": {
        "colab": {
          "base_uri": "https://localhost:8080/"
        },
        "id": "MOpuZwC9m_CQ",
        "outputId": "e9938eb9-5459-4429-fed9-202cb7f5313d"
      },
      "execution_count": null,
      "outputs": [
        {
          "output_type": "stream",
          "name": "stdout",
          "text": [
            "Comparación de cada bit (verde = correcto, rojo = incorrecto):\n",
            "\n",
            "\u001b[92m0\u001b[0m \u001b[92m1\u001b[0m \n",
            "\u001b[92m0\u001b[0m \u001b[92m0\u001b[0m \n",
            "\u001b[91m0\u001b[0m \u001b[92m0\u001b[0m \n",
            "\u001b[92m0\u001b[0m \u001b[92m0\u001b[0m \n",
            "\u001b[92m1\u001b[0m \u001b[92m1\u001b[0m \n",
            "\u001b[92m1\u001b[0m \u001b[92m0\u001b[0m \n",
            "\u001b[91m1\u001b[0m \u001b[92m0\u001b[0m \n",
            "\u001b[92m1\u001b[0m \u001b[92m0\u001b[0m \n",
            "\n",
            "Contadores:\n",
            "Bits correctos: 14 de 16\n",
            "Bits incorrectos: 2 de 16\n"
          ]
        }
      ]
    }
  ]
}